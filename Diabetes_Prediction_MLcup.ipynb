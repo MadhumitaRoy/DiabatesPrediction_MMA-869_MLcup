{
 "cells": [
  {
   "cell_type": "code",
   "execution_count": 1,
   "metadata": {},
   "outputs": [],
   "source": [
    "# Importing the necessary libraries\n",
    "import numpy as np\n",
    "import pandas as pd\n",
    "import matplotlib.pyplot as plt\n",
    "import seaborn as sns\n",
    "%matplotlib inline"
   ]
  },
  {
   "cell_type": "code",
   "execution_count": 2,
   "metadata": {},
   "outputs": [],
   "source": [
    "from sklearn.impute import SimpleImputer\n",
    "from sklearn.model_selection import train_test_split\n",
    "from sklearn.model_selection import GridSearchCV\n",
    "from sklearn.metrics import roc_curve, auc, roc_auc_score, classification_report, confusion_matrix, make_scorer\n",
    "from sklearn.linear_model import LogisticRegression\n",
    "from sklearn.tree import DecisionTreeClassifier\n",
    "from sklearn.ensemble import RandomForestClassifier, GradientBoostingClassifier\n"
   ]
  },
  {
   "cell_type": "code",
   "execution_count": 3,
   "metadata": {},
   "outputs": [],
   "source": [
    "from imblearn.over_sampling import SMOTE"
   ]
  },
  {
   "cell_type": "code",
   "execution_count": 4,
   "metadata": {},
   "outputs": [],
   "source": [
    "# Reading both train and test datasets\n",
    "train_df = pd.read_csv(\"diabetes_train.csv\",header=0)\n",
    "test_df = pd.read_csv(\"diabetes_test.csv\",header = 0)"
   ]
  },
  {
   "cell_type": "code",
   "execution_count": 5,
   "metadata": {},
   "outputs": [
    {
     "data": {
      "text/html": [
       "<div>\n",
       "<style scoped>\n",
       "    .dataframe tbody tr th:only-of-type {\n",
       "        vertical-align: middle;\n",
       "    }\n",
       "\n",
       "    .dataframe tbody tr th {\n",
       "        vertical-align: top;\n",
       "    }\n",
       "\n",
       "    .dataframe thead th {\n",
       "        text-align: right;\n",
       "    }\n",
       "</style>\n",
       "<table border=\"1\" class=\"dataframe\">\n",
       "  <thead>\n",
       "    <tr style=\"text-align: right;\">\n",
       "      <th></th>\n",
       "      <th>Id</th>\n",
       "      <th>num_times_pregnant</th>\n",
       "      <th>plasma_glucose</th>\n",
       "      <th>DBP</th>\n",
       "      <th>triceps_skin</th>\n",
       "      <th>serum_insulin</th>\n",
       "      <th>BMI</th>\n",
       "      <th>pedigree</th>\n",
       "      <th>age</th>\n",
       "      <th>diabetes</th>\n",
       "    </tr>\n",
       "  </thead>\n",
       "  <tbody>\n",
       "    <tr>\n",
       "      <th>0</th>\n",
       "      <td>358</td>\n",
       "      <td>13</td>\n",
       "      <td>129</td>\n",
       "      <td>0</td>\n",
       "      <td>30</td>\n",
       "      <td>0</td>\n",
       "      <td>39.9</td>\n",
       "      <td>0.569</td>\n",
       "      <td>44</td>\n",
       "      <td>1</td>\n",
       "    </tr>\n",
       "    <tr>\n",
       "      <th>1</th>\n",
       "      <td>74</td>\n",
       "      <td>4</td>\n",
       "      <td>129</td>\n",
       "      <td>86</td>\n",
       "      <td>20</td>\n",
       "      <td>270</td>\n",
       "      <td>35.1</td>\n",
       "      <td>0.231</td>\n",
       "      <td>23</td>\n",
       "      <td>0</td>\n",
       "    </tr>\n",
       "    <tr>\n",
       "      <th>2</th>\n",
       "      <td>353</td>\n",
       "      <td>3</td>\n",
       "      <td>61</td>\n",
       "      <td>82</td>\n",
       "      <td>28</td>\n",
       "      <td>0</td>\n",
       "      <td>34.4</td>\n",
       "      <td>0.243</td>\n",
       "      <td>46</td>\n",
       "      <td>0</td>\n",
       "    </tr>\n",
       "    <tr>\n",
       "      <th>3</th>\n",
       "      <td>498</td>\n",
       "      <td>2</td>\n",
       "      <td>81</td>\n",
       "      <td>72</td>\n",
       "      <td>15</td>\n",
       "      <td>76</td>\n",
       "      <td>30.1</td>\n",
       "      <td>0.547</td>\n",
       "      <td>25</td>\n",
       "      <td>0</td>\n",
       "    </tr>\n",
       "    <tr>\n",
       "      <th>4</th>\n",
       "      <td>146</td>\n",
       "      <td>0</td>\n",
       "      <td>102</td>\n",
       "      <td>75</td>\n",
       "      <td>23</td>\n",
       "      <td>0</td>\n",
       "      <td>0.0</td>\n",
       "      <td>0.572</td>\n",
       "      <td>21</td>\n",
       "      <td>0</td>\n",
       "    </tr>\n",
       "  </tbody>\n",
       "</table>\n",
       "</div>"
      ],
      "text/plain": [
       "    Id  num_times_pregnant  plasma_glucose  DBP  triceps_skin  serum_insulin  \\\n",
       "0  358                  13             129    0            30              0   \n",
       "1   74                   4             129   86            20            270   \n",
       "2  353                   3              61   82            28              0   \n",
       "3  498                   2              81   72            15             76   \n",
       "4  146                   0             102   75            23              0   \n",
       "\n",
       "    BMI  pedigree  age  diabetes  \n",
       "0  39.9     0.569   44         1  \n",
       "1  35.1     0.231   23         0  \n",
       "2  34.4     0.243   46         0  \n",
       "3  30.1     0.547   25         0  \n",
       "4   0.0     0.572   21         0  "
      ]
     },
     "execution_count": 5,
     "metadata": {},
     "output_type": "execute_result"
    }
   ],
   "source": [
    "train_df.head()"
   ]
  },
  {
   "cell_type": "code",
   "execution_count": 6,
   "metadata": {},
   "outputs": [
    {
     "data": {
      "text/html": [
       "<div>\n",
       "<style scoped>\n",
       "    .dataframe tbody tr th:only-of-type {\n",
       "        vertical-align: middle;\n",
       "    }\n",
       "\n",
       "    .dataframe tbody tr th {\n",
       "        vertical-align: top;\n",
       "    }\n",
       "\n",
       "    .dataframe thead th {\n",
       "        text-align: right;\n",
       "    }\n",
       "</style>\n",
       "<table border=\"1\" class=\"dataframe\">\n",
       "  <thead>\n",
       "    <tr style=\"text-align: right;\">\n",
       "      <th></th>\n",
       "      <th>Id</th>\n",
       "      <th>num_times_pregnant</th>\n",
       "      <th>plasma_glucose</th>\n",
       "      <th>DBP</th>\n",
       "      <th>triceps_skin</th>\n",
       "      <th>serum_insulin</th>\n",
       "      <th>BMI</th>\n",
       "      <th>pedigree</th>\n",
       "      <th>age</th>\n",
       "    </tr>\n",
       "  </thead>\n",
       "  <tbody>\n",
       "    <tr>\n",
       "      <th>0</th>\n",
       "      <td>669</td>\n",
       "      <td>6</td>\n",
       "      <td>98</td>\n",
       "      <td>58</td>\n",
       "      <td>33</td>\n",
       "      <td>190</td>\n",
       "      <td>34.0</td>\n",
       "      <td>0.430</td>\n",
       "      <td>43</td>\n",
       "    </tr>\n",
       "    <tr>\n",
       "      <th>1</th>\n",
       "      <td>325</td>\n",
       "      <td>2</td>\n",
       "      <td>112</td>\n",
       "      <td>75</td>\n",
       "      <td>32</td>\n",
       "      <td>0</td>\n",
       "      <td>35.7</td>\n",
       "      <td>0.148</td>\n",
       "      <td>21</td>\n",
       "    </tr>\n",
       "    <tr>\n",
       "      <th>2</th>\n",
       "      <td>625</td>\n",
       "      <td>2</td>\n",
       "      <td>108</td>\n",
       "      <td>64</td>\n",
       "      <td>0</td>\n",
       "      <td>0</td>\n",
       "      <td>30.8</td>\n",
       "      <td>0.158</td>\n",
       "      <td>21</td>\n",
       "    </tr>\n",
       "    <tr>\n",
       "      <th>3</th>\n",
       "      <td>691</td>\n",
       "      <td>8</td>\n",
       "      <td>107</td>\n",
       "      <td>80</td>\n",
       "      <td>0</td>\n",
       "      <td>0</td>\n",
       "      <td>24.6</td>\n",
       "      <td>0.856</td>\n",
       "      <td>34</td>\n",
       "    </tr>\n",
       "    <tr>\n",
       "      <th>4</th>\n",
       "      <td>474</td>\n",
       "      <td>7</td>\n",
       "      <td>136</td>\n",
       "      <td>90</td>\n",
       "      <td>0</td>\n",
       "      <td>0</td>\n",
       "      <td>29.9</td>\n",
       "      <td>0.210</td>\n",
       "      <td>50</td>\n",
       "    </tr>\n",
       "  </tbody>\n",
       "</table>\n",
       "</div>"
      ],
      "text/plain": [
       "    Id  num_times_pregnant  plasma_glucose  DBP  triceps_skin  serum_insulin  \\\n",
       "0  669                   6              98   58            33            190   \n",
       "1  325                   2             112   75            32              0   \n",
       "2  625                   2             108   64             0              0   \n",
       "3  691                   8             107   80             0              0   \n",
       "4  474                   7             136   90             0              0   \n",
       "\n",
       "    BMI  pedigree  age  \n",
       "0  34.0     0.430   43  \n",
       "1  35.7     0.148   21  \n",
       "2  30.8     0.158   21  \n",
       "3  24.6     0.856   34  \n",
       "4  29.9     0.210   50  "
      ]
     },
     "execution_count": 6,
     "metadata": {},
     "output_type": "execute_result"
    }
   ],
   "source": [
    "test_df.head()"
   ]
  },
  {
   "cell_type": "code",
   "execution_count": 7,
   "metadata": {},
   "outputs": [
    {
     "data": {
      "text/plain": [
       "Id                    0\n",
       "num_times_pregnant    0\n",
       "plasma_glucose        0\n",
       "DBP                   0\n",
       "triceps_skin          0\n",
       "serum_insulin         0\n",
       "BMI                   0\n",
       "pedigree              0\n",
       "age                   0\n",
       "diabetes              0\n",
       "dtype: int64"
      ]
     },
     "execution_count": 7,
     "metadata": {},
     "output_type": "execute_result"
    }
   ],
   "source": [
    "# Checking for missing data in train dataset\n",
    "pd.DataFrame(train_df).isna().sum()"
   ]
  },
  {
   "cell_type": "markdown",
   "metadata": {},
   "source": [
    "No missing data"
   ]
  },
  {
   "cell_type": "code",
   "execution_count": 8,
   "metadata": {},
   "outputs": [
    {
     "data": {
      "text/plain": [
       "Id                    0\n",
       "num_times_pregnant    0\n",
       "plasma_glucose        0\n",
       "DBP                   0\n",
       "triceps_skin          0\n",
       "serum_insulin         0\n",
       "BMI                   0\n",
       "pedigree              0\n",
       "age                   0\n",
       "dtype: int64"
      ]
     },
     "execution_count": 8,
     "metadata": {},
     "output_type": "execute_result"
    }
   ],
   "source": [
    "# Checking for missing data in train dataset\n",
    "pd.DataFrame(test_df).isna().sum()"
   ]
  },
  {
   "cell_type": "markdown",
   "metadata": {},
   "source": [
    "No missing data"
   ]
  },
  {
   "cell_type": "markdown",
   "metadata": {},
   "source": [
    "# Data Exploration"
   ]
  },
  {
   "cell_type": "code",
   "execution_count": 9,
   "metadata": {},
   "outputs": [
    {
     "data": {
      "text/plain": [
       "0    377\n",
       "1    199\n",
       "Name: diabetes, dtype: int64"
      ]
     },
     "execution_count": 9,
     "metadata": {},
     "output_type": "execute_result"
    },
    {
     "data": {
      "image/png": "[encoded data removed]",
      "text/plain": [
       "<Figure size 432x288 with 1 Axes>"
      ]
     },
     "metadata": {
      "needs_background": "light"
     },
     "output_type": "display_data"
    }
   ],
   "source": [
    "sns.countplot(x=\"diabetes\",data = train_df)\n",
    "train_df[\"diabetes\"].value_counts()"
   ]
  },
  {
   "cell_type": "markdown",
   "metadata": {},
   "source": [
    "Target is imbalanced with 34.5% having diabetes"
   ]
  },
  {
   "cell_type": "code",
   "execution_count": 10,
   "metadata": {},
   "outputs": [
    {
     "data": {
      "text/plain": [
       "<matplotlib.axes._subplots.AxesSubplot at 0x1ca7b146b88>"
      ]
     },
     "execution_count": 10,
     "metadata": {},
     "output_type": "execute_result"
    },
    {
     "data": {
      "image/png": "[encoded data removed]",
      "text/plain": [
       "<Figure size 432x288 with 1 Axes>"
      ]
     },
     "metadata": {
      "needs_background": "light"
     },
     "output_type": "display_data"
    }
   ],
   "source": [
    "sns.countplot(x=\"num_times_pregnant\",data=train_df)"
   ]
  },
  {
   "cell_type": "code",
   "execution_count": 11,
   "metadata": {},
   "outputs": [
    {
     "data": {
      "text/plain": [
       "<matplotlib.axes._subplots.AxesSubplot at 0x1ca7b15e248>"
      ]
     },
     "execution_count": 11,
     "metadata": {},
     "output_type": "execute_result"
    },
    {
     "data": {
      "image/png": "[encoded data removed]",
      "text/plain": [
       "<Figure size 1152x720 with 2 Axes>"
      ]
     },
     "metadata": {
      "needs_background": "light"
     },
     "output_type": "display_data"
    }
   ],
   "source": [
    "# Checking for correaltion among the features\n",
    "# Heatplot to see the correlation between different features\n",
    "train_df.drop(\"Id\",axis=1,inplace=True)\n",
    "plt.figure(figsize=(16,10))\n",
    "sns.heatmap(train_df.corr(),cmap='coolwarm',annot=True)"
   ]
  },
  {
   "cell_type": "markdown",
   "metadata": {},
   "source": [
    "# Feature Engineering"
   ]
  },
  {
   "cell_type": "code",
   "execution_count": 12,
   "metadata": {},
   "outputs": [
    {
     "data": {
      "text/plain": [
       "Index(['num_times_pregnant', 'plasma_glucose', 'DBP', 'triceps_skin',\n",
       "       'serum_insulin', 'BMI', 'pedigree', 'age', 'diabetes'],\n",
       "      dtype='object')"
      ]
     },
     "execution_count": 12,
     "metadata": {},
     "output_type": "execute_result"
    }
   ],
   "source": [
    "train_df.columns"
   ]
  },
  {
   "cell_type": "code",
   "execution_count": 13,
   "metadata": {},
   "outputs": [],
   "source": [
    "# Feature Engineering in train dataset\n",
    "# 1. Not normal when BMI > 30 and plasma glucose > 126.\n",
    "# 2. Not normal when diastolic blood pressure > 90 and serum insulin > 126.\n",
    "train_df[\"obese_highGlucose\"] = np.where((train_df[\"BMI\"] > 30) & (train_df[\"plasma_glucose\"] > 126),\"Not Normal\",\"Normal\")\n",
    "train_df[\"pressure_highInsulin\"] = np.where((train_df[\"DBP\"] > 90) & (train_df[\"serum_insulin\"] > 126),\"Not Normal\",\"Normal\")"
   ]
  },
  {
   "cell_type": "code",
   "execution_count": 14,
   "metadata": {},
   "outputs": [],
   "source": [
    "# Feature Engineering in train dataset\n",
    "test_df[\"obese_highGlucose\"] = np.where((test_df[\"BMI\"] > 30) & (test_df[\"plasma_glucose\"] > 126),\"Not Normal\",\"Normal\")\n",
    "test_df[\"pressure_highInsulin\"] = np.where((test_df[\"DBP\"] > 90) & (test_df[\"plasma_glucose\"] > 126),\"Not Normal\",\"Normal\")"
   ]
  },
  {
   "cell_type": "code",
   "execution_count": 15,
   "metadata": {},
   "outputs": [
    {
     "data": {
      "text/html": [
       "<div>\n",
       "<style scoped>\n",
       "    .dataframe tbody tr th:only-of-type {\n",
       "        vertical-align: middle;\n",
       "    }\n",
       "\n",
       "    .dataframe tbody tr th {\n",
       "        vertical-align: top;\n",
       "    }\n",
       "\n",
       "    .dataframe thead th {\n",
       "        text-align: right;\n",
       "    }\n",
       "</style>\n",
       "<table border=\"1\" class=\"dataframe\">\n",
       "  <thead>\n",
       "    <tr style=\"text-align: right;\">\n",
       "      <th></th>\n",
       "      <th>num_times_pregnant</th>\n",
       "      <th>plasma_glucose</th>\n",
       "      <th>DBP</th>\n",
       "      <th>triceps_skin</th>\n",
       "      <th>serum_insulin</th>\n",
       "      <th>BMI</th>\n",
       "      <th>pedigree</th>\n",
       "      <th>age</th>\n",
       "      <th>diabetes</th>\n",
       "      <th>obese_highGlucose</th>\n",
       "      <th>pressure_highInsulin</th>\n",
       "    </tr>\n",
       "  </thead>\n",
       "  <tbody>\n",
       "    <tr>\n",
       "      <th>0</th>\n",
       "      <td>13</td>\n",
       "      <td>129</td>\n",
       "      <td>0</td>\n",
       "      <td>30</td>\n",
       "      <td>0</td>\n",
       "      <td>39.9</td>\n",
       "      <td>0.569</td>\n",
       "      <td>44</td>\n",
       "      <td>1</td>\n",
       "      <td>Not Normal</td>\n",
       "      <td>Normal</td>\n",
       "    </tr>\n",
       "    <tr>\n",
       "      <th>1</th>\n",
       "      <td>4</td>\n",
       "      <td>129</td>\n",
       "      <td>86</td>\n",
       "      <td>20</td>\n",
       "      <td>270</td>\n",
       "      <td>35.1</td>\n",
       "      <td>0.231</td>\n",
       "      <td>23</td>\n",
       "      <td>0</td>\n",
       "      <td>Not Normal</td>\n",
       "      <td>Normal</td>\n",
       "    </tr>\n",
       "    <tr>\n",
       "      <th>2</th>\n",
       "      <td>3</td>\n",
       "      <td>61</td>\n",
       "      <td>82</td>\n",
       "      <td>28</td>\n",
       "      <td>0</td>\n",
       "      <td>34.4</td>\n",
       "      <td>0.243</td>\n",
       "      <td>46</td>\n",
       "      <td>0</td>\n",
       "      <td>Normal</td>\n",
       "      <td>Normal</td>\n",
       "    </tr>\n",
       "    <tr>\n",
       "      <th>3</th>\n",
       "      <td>2</td>\n",
       "      <td>81</td>\n",
       "      <td>72</td>\n",
       "      <td>15</td>\n",
       "      <td>76</td>\n",
       "      <td>30.1</td>\n",
       "      <td>0.547</td>\n",
       "      <td>25</td>\n",
       "      <td>0</td>\n",
       "      <td>Normal</td>\n",
       "      <td>Normal</td>\n",
       "    </tr>\n",
       "    <tr>\n",
       "      <th>4</th>\n",
       "      <td>0</td>\n",
       "      <td>102</td>\n",
       "      <td>75</td>\n",
       "      <td>23</td>\n",
       "      <td>0</td>\n",
       "      <td>0.0</td>\n",
       "      <td>0.572</td>\n",
       "      <td>21</td>\n",
       "      <td>0</td>\n",
       "      <td>Normal</td>\n",
       "      <td>Normal</td>\n",
       "    </tr>\n",
       "  </tbody>\n",
       "</table>\n",
       "</div>"
      ],
      "text/plain": [
       "   num_times_pregnant  plasma_glucose  DBP  triceps_skin  serum_insulin   BMI  \\\n",
       "0                  13             129    0            30              0  39.9   \n",
       "1                   4             129   86            20            270  35.1   \n",
       "2                   3              61   82            28              0  34.4   \n",
       "3                   2              81   72            15             76  30.1   \n",
       "4                   0             102   75            23              0   0.0   \n",
       "\n",
       "   pedigree  age  diabetes obese_highGlucose pressure_highInsulin  \n",
       "0     0.569   44         1        Not Normal               Normal  \n",
       "1     0.231   23         0        Not Normal               Normal  \n",
       "2     0.243   46         0            Normal               Normal  \n",
       "3     0.547   25         0            Normal               Normal  \n",
       "4     0.572   21         0            Normal               Normal  "
      ]
     },
     "execution_count": 15,
     "metadata": {},
     "output_type": "execute_result"
    }
   ],
   "source": [
    "train_df.head()"
   ]
  },
  {
   "cell_type": "code",
   "execution_count": 16,
   "metadata": {},
   "outputs": [
    {
     "name": "stdout",
     "output_type": "stream",
     "text": [
      "<class 'pandas.core.frame.DataFrame'>\n",
      "RangeIndex: 576 entries, 0 to 575\n",
      "Data columns (total 11 columns):\n",
      " #   Column                Non-Null Count  Dtype  \n",
      "---  ------                --------------  -----  \n",
      " 0   num_times_pregnant    576 non-null    int64  \n",
      " 1   plasma_glucose        576 non-null    int64  \n",
      " 2   DBP                   576 non-null    int64  \n",
      " 3   triceps_skin          576 non-null    int64  \n",
      " 4   serum_insulin         576 non-null    int64  \n",
      " 5   BMI                   576 non-null    float64\n",
      " 6   pedigree              576 non-null    float64\n",
      " 7   age                   576 non-null    int64  \n",
      " 8   diabetes              576 non-null    int64  \n",
      " 9   obese_highGlucose     576 non-null    object \n",
      " 10  pressure_highInsulin  576 non-null    object \n",
      "dtypes: float64(2), int64(7), object(2)\n",
      "memory usage: 49.6+ KB\n"
     ]
    }
   ],
   "source": [
    "train_df.info()"
   ]
  },
  {
   "cell_type": "code",
   "execution_count": 17,
   "metadata": {},
   "outputs": [],
   "source": [
    "# Changing to categorical\n",
    "categorical_features = [\n",
    "    'obese_highGlucose',\n",
    "    'pressure_highInsulin',\n",
    "    ]\n",
    "\n",
    "for categorical_feature in categorical_features:\n",
    "    train_df[categorical_feature] = train_df[categorical_feature].astype('category')"
   ]
  },
  {
   "cell_type": "code",
   "execution_count": 18,
   "metadata": {},
   "outputs": [],
   "source": [
    "# Changing to categorical\n",
    "categorical_features = [\n",
    "    'obese_highGlucose',\n",
    "    'pressure_highInsulin',\n",
    "    ]\n",
    "\n",
    "for categorical_feature in categorical_features:\n",
    "    test_df[categorical_feature] = test_df[categorical_feature].astype('category')"
   ]
  },
  {
   "cell_type": "code",
   "execution_count": 19,
   "metadata": {},
   "outputs": [
    {
     "data": {
      "text/html": [
       "<div>\n",
       "<style scoped>\n",
       "    .dataframe tbody tr th:only-of-type {\n",
       "        vertical-align: middle;\n",
       "    }\n",
       "\n",
       "    .dataframe tbody tr th {\n",
       "        vertical-align: top;\n",
       "    }\n",
       "\n",
       "    .dataframe thead th {\n",
       "        text-align: right;\n",
       "    }\n",
       "</style>\n",
       "<table border=\"1\" class=\"dataframe\">\n",
       "  <thead>\n",
       "    <tr style=\"text-align: right;\">\n",
       "      <th></th>\n",
       "      <th>num_times_pregnant</th>\n",
       "      <th>plasma_glucose</th>\n",
       "      <th>DBP</th>\n",
       "      <th>triceps_skin</th>\n",
       "      <th>serum_insulin</th>\n",
       "      <th>BMI</th>\n",
       "      <th>pedigree</th>\n",
       "      <th>age</th>\n",
       "      <th>diabetes</th>\n",
       "      <th>obese_highGlucose_Not Normal</th>\n",
       "      <th>pressure_highInsulin_Not Normal</th>\n",
       "    </tr>\n",
       "  </thead>\n",
       "  <tbody>\n",
       "    <tr>\n",
       "      <th>0</th>\n",
       "      <td>13</td>\n",
       "      <td>129</td>\n",
       "      <td>0</td>\n",
       "      <td>30</td>\n",
       "      <td>0</td>\n",
       "      <td>39.9</td>\n",
       "      <td>0.569</td>\n",
       "      <td>44</td>\n",
       "      <td>1</td>\n",
       "      <td>1</td>\n",
       "      <td>0</td>\n",
       "    </tr>\n",
       "    <tr>\n",
       "      <th>1</th>\n",
       "      <td>4</td>\n",
       "      <td>129</td>\n",
       "      <td>86</td>\n",
       "      <td>20</td>\n",
       "      <td>270</td>\n",
       "      <td>35.1</td>\n",
       "      <td>0.231</td>\n",
       "      <td>23</td>\n",
       "      <td>0</td>\n",
       "      <td>1</td>\n",
       "      <td>0</td>\n",
       "    </tr>\n",
       "    <tr>\n",
       "      <th>2</th>\n",
       "      <td>3</td>\n",
       "      <td>61</td>\n",
       "      <td>82</td>\n",
       "      <td>28</td>\n",
       "      <td>0</td>\n",
       "      <td>34.4</td>\n",
       "      <td>0.243</td>\n",
       "      <td>46</td>\n",
       "      <td>0</td>\n",
       "      <td>0</td>\n",
       "      <td>0</td>\n",
       "    </tr>\n",
       "    <tr>\n",
       "      <th>3</th>\n",
       "      <td>2</td>\n",
       "      <td>81</td>\n",
       "      <td>72</td>\n",
       "      <td>15</td>\n",
       "      <td>76</td>\n",
       "      <td>30.1</td>\n",
       "      <td>0.547</td>\n",
       "      <td>25</td>\n",
       "      <td>0</td>\n",
       "      <td>0</td>\n",
       "      <td>0</td>\n",
       "    </tr>\n",
       "    <tr>\n",
       "      <th>4</th>\n",
       "      <td>0</td>\n",
       "      <td>102</td>\n",
       "      <td>75</td>\n",
       "      <td>23</td>\n",
       "      <td>0</td>\n",
       "      <td>0.0</td>\n",
       "      <td>0.572</td>\n",
       "      <td>21</td>\n",
       "      <td>0</td>\n",
       "      <td>0</td>\n",
       "      <td>0</td>\n",
       "    </tr>\n",
       "  </tbody>\n",
       "</table>\n",
       "</div>"
      ],
      "text/plain": [
       "   num_times_pregnant  plasma_glucose  DBP  triceps_skin  serum_insulin   BMI  \\\n",
       "0                  13             129    0            30              0  39.9   \n",
       "1                   4             129   86            20            270  35.1   \n",
       "2                   3              61   82            28              0  34.4   \n",
       "3                   2              81   72            15             76  30.1   \n",
       "4                   0             102   75            23              0   0.0   \n",
       "\n",
       "   pedigree  age  diabetes  obese_highGlucose_Not Normal  \\\n",
       "0     0.569   44         1                             1   \n",
       "1     0.231   23         0                             1   \n",
       "2     0.243   46         0                             0   \n",
       "3     0.547   25         0                             0   \n",
       "4     0.572   21         0                             0   \n",
       "\n",
       "   pressure_highInsulin_Not Normal  \n",
       "0                                0  \n",
       "1                                0  \n",
       "2                                0  \n",
       "3                                0  \n",
       "4                                0  "
      ]
     },
     "execution_count": 19,
     "metadata": {},
     "output_type": "execute_result"
    }
   ],
   "source": [
    "#0ne hot encoding for train dataset\n",
    "train_df = pd.get_dummies(train_df, columns = train_df.select_dtypes(exclude=['int64','int32','float64']).columns, drop_first = True)\n",
    "train_df.head()"
   ]
  },
  {
   "cell_type": "code",
   "execution_count": 20,
   "metadata": {},
   "outputs": [
    {
     "data": {
      "text/html": [
       "<div>\n",
       "<style scoped>\n",
       "    .dataframe tbody tr th:only-of-type {\n",
       "        vertical-align: middle;\n",
       "    }\n",
       "\n",
       "    .dataframe tbody tr th {\n",
       "        vertical-align: top;\n",
       "    }\n",
       "\n",
       "    .dataframe thead th {\n",
       "        text-align: right;\n",
       "    }\n",
       "</style>\n",
       "<table border=\"1\" class=\"dataframe\">\n",
       "  <thead>\n",
       "    <tr style=\"text-align: right;\">\n",
       "      <th></th>\n",
       "      <th>Id</th>\n",
       "      <th>num_times_pregnant</th>\n",
       "      <th>plasma_glucose</th>\n",
       "      <th>DBP</th>\n",
       "      <th>triceps_skin</th>\n",
       "      <th>serum_insulin</th>\n",
       "      <th>BMI</th>\n",
       "      <th>pedigree</th>\n",
       "      <th>age</th>\n",
       "      <th>obese_highGlucose_Not Normal</th>\n",
       "      <th>pressure_highInsulin_Not Normal</th>\n",
       "    </tr>\n",
       "  </thead>\n",
       "  <tbody>\n",
       "    <tr>\n",
       "      <th>0</th>\n",
       "      <td>669</td>\n",
       "      <td>6</td>\n",
       "      <td>98</td>\n",
       "      <td>58</td>\n",
       "      <td>33</td>\n",
       "      <td>190</td>\n",
       "      <td>34.0</td>\n",
       "      <td>0.430</td>\n",
       "      <td>43</td>\n",
       "      <td>0</td>\n",
       "      <td>0</td>\n",
       "    </tr>\n",
       "    <tr>\n",
       "      <th>1</th>\n",
       "      <td>325</td>\n",
       "      <td>2</td>\n",
       "      <td>112</td>\n",
       "      <td>75</td>\n",
       "      <td>32</td>\n",
       "      <td>0</td>\n",
       "      <td>35.7</td>\n",
       "      <td>0.148</td>\n",
       "      <td>21</td>\n",
       "      <td>0</td>\n",
       "      <td>0</td>\n",
       "    </tr>\n",
       "    <tr>\n",
       "      <th>2</th>\n",
       "      <td>625</td>\n",
       "      <td>2</td>\n",
       "      <td>108</td>\n",
       "      <td>64</td>\n",
       "      <td>0</td>\n",
       "      <td>0</td>\n",
       "      <td>30.8</td>\n",
       "      <td>0.158</td>\n",
       "      <td>21</td>\n",
       "      <td>0</td>\n",
       "      <td>0</td>\n",
       "    </tr>\n",
       "    <tr>\n",
       "      <th>3</th>\n",
       "      <td>691</td>\n",
       "      <td>8</td>\n",
       "      <td>107</td>\n",
       "      <td>80</td>\n",
       "      <td>0</td>\n",
       "      <td>0</td>\n",
       "      <td>24.6</td>\n",
       "      <td>0.856</td>\n",
       "      <td>34</td>\n",
       "      <td>0</td>\n",
       "      <td>0</td>\n",
       "    </tr>\n",
       "    <tr>\n",
       "      <th>4</th>\n",
       "      <td>474</td>\n",
       "      <td>7</td>\n",
       "      <td>136</td>\n",
       "      <td>90</td>\n",
       "      <td>0</td>\n",
       "      <td>0</td>\n",
       "      <td>29.9</td>\n",
       "      <td>0.210</td>\n",
       "      <td>50</td>\n",
       "      <td>0</td>\n",
       "      <td>0</td>\n",
       "    </tr>\n",
       "  </tbody>\n",
       "</table>\n",
       "</div>"
      ],
      "text/plain": [
       "    Id  num_times_pregnant  plasma_glucose  DBP  triceps_skin  serum_insulin  \\\n",
       "0  669                   6              98   58            33            190   \n",
       "1  325                   2             112   75            32              0   \n",
       "2  625                   2             108   64             0              0   \n",
       "3  691                   8             107   80             0              0   \n",
       "4  474                   7             136   90             0              0   \n",
       "\n",
       "    BMI  pedigree  age  obese_highGlucose_Not Normal  \\\n",
       "0  34.0     0.430   43                             0   \n",
       "1  35.7     0.148   21                             0   \n",
       "2  30.8     0.158   21                             0   \n",
       "3  24.6     0.856   34                             0   \n",
       "4  29.9     0.210   50                             0   \n",
       "\n",
       "   pressure_highInsulin_Not Normal  \n",
       "0                                0  \n",
       "1                                0  \n",
       "2                                0  \n",
       "3                                0  \n",
       "4                                0  "
      ]
     },
     "execution_count": 20,
     "metadata": {},
     "output_type": "execute_result"
    }
   ],
   "source": [
    "#0ne hot encoding for test dataset\n",
    "test_df = pd.get_dummies(test_df, columns = test_df.select_dtypes(exclude=['int64','int32','float64']).columns, drop_first = True)\n",
    "test_df.head()"
   ]
  },
  {
   "cell_type": "markdown",
   "metadata": {},
   "source": [
    "# Predictive Modeling"
   ]
  },
  {
   "cell_type": "code",
   "execution_count": 21,
   "metadata": {},
   "outputs": [],
   "source": [
    "#The target variable Purchase will be y and the other features will be X\n",
    "y = train_df['diabetes']\n",
    "X = train_df.drop(columns = 'diabetes')"
   ]
  },
  {
   "cell_type": "code",
   "execution_count": 22,
   "metadata": {},
   "outputs": [
    {
     "name": "stdout",
     "output_type": "stream",
     "text": [
      "(460, 10)\n",
      "(116, 10)\n",
      "(460,)\n",
      "(116,)\n"
     ]
    }
   ],
   "source": [
    "# The data is now split into train and test in 80:20 ratio.\n",
    "# The train set will be used to create and train the model while the test data set will be used to validate the model.\n",
    "#A random seed is selected so that the train and test sets remains constant everytime we split the data.\n",
    "\n",
    "np.random.seed(42)\n",
    "# split the data randomly into 80% train and 20% test samples \n",
    "X_train, X_test, y_train, y_test = train_test_split(X,y, test_size = 0.20,stratify=y)\n",
    "# IMPORTANT: these samples are stratified, i.e., the proportion of retained and not-retained customers is the same in both\n",
    "\n",
    "# Lets check the results\n",
    "print(X_train.shape)\n",
    "print(X_test.shape)\n",
    "print(y_train.shape)\n",
    "print(y_test.shape)"
   ]
  },
  {
   "cell_type": "markdown",
   "metadata": {},
   "source": [
    "# Data balancing in the X_train using SMOTE"
   ]
  },
  {
   "cell_type": "code",
   "execution_count": 23,
   "metadata": {},
   "outputs": [
    {
     "name": "stdout",
     "output_type": "stream",
     "text": [
      "Before OverSampling, counts of label '1': 159\n",
      "Before OverSampling, counts of label '0': 301 \n",
      "\n"
     ]
    }
   ],
   "source": [
    "print(\"Before OverSampling, counts of label '1': {}\".format(sum(y_train==1)))\n",
    "print(\"Before OverSampling, counts of label '0': {} \\n\".format(sum(y_train==0)))"
   ]
  },
  {
   "cell_type": "code",
   "execution_count": 24,
   "metadata": {},
   "outputs": [],
   "source": [
    "sm = SMOTE(random_state=42)\n",
    "X_res,y_res = SMOTE(random_state=42).fit_resample(X_train,y_train)"
   ]
  },
  {
   "cell_type": "code",
   "execution_count": 25,
   "metadata": {},
   "outputs": [
    {
     "name": "stdout",
     "output_type": "stream",
     "text": [
      "After OverSampling, counts of label '1': 301\n",
      "After OverSampling, counts of label '0': 301 \n",
      "\n"
     ]
    }
   ],
   "source": [
    "print(\"After OverSampling, counts of label '1': {}\".format(sum(y_res==1)))\n",
    "print(\"After OverSampling, counts of label '0': {} \\n\".format(sum(y_res==0)))"
   ]
  },
  {
   "cell_type": "code",
   "execution_count": 26,
   "metadata": {},
   "outputs": [],
   "source": [
    "# First we define a set of functions to compute the metrics of the model\n",
    "\n",
    "# ROC curve\n",
    "def plot_roc(y_test, y_pred):\n",
    "    fpr, tpr, thresholds = roc_curve(y_test, y_pred, pos_label=1, drop_intermediate = False)\n",
    "    roc_auc = auc(fpr, tpr)\n",
    "    plt.figure()\n",
    "    lw = 2\n",
    "    plt.plot(fpr, tpr, color='darkorange',\n",
    "             lw=lw, label='ROC curve (AUC = %0.2f)' % roc_auc)\n",
    "    plt.plot([0, 1], [0, 1], color='navy', lw=lw, linestyle='--')\n",
    "    plt.xlim([-0.001, 1.001])\n",
    "    plt.ylim([-0.001, 1.001])\n",
    "    plt.xlabel('1-Specificity (False Negative Rate)')\n",
    "    plt.ylabel('Sensitivity (True Positive Rate)')\n",
    "    plt.title('ROC curve')\n",
    "    plt.legend(loc=\"lower right\")\n",
    "    plt.show()\n",
    "\n",
    "# Confusion Matrix returns in the format: cm[0,0], cm[0,1], cm[1,0], cm[1,1]: tn, fp, fn, tp\n",
    "\n",
    "# Sensitivity\n",
    "def custom_sensitivity_score(y_test, y_pred):\n",
    "    cm = confusion_matrix(y_test, y_pred)\n",
    "    tn, fp, fn, tp = cm[0][0], cm[0][1], cm[1][0], cm[1][1]\n",
    "    return (tp/(tp+fn))\n",
    "\n",
    "# Specificity\n",
    "def custom_specificity_score(y_test, y_pred):\n",
    "    cm = confusion_matrix(y_test, y_pred)\n",
    "    tn, fp, fn, tp = cm[0][0], cm[0][1], cm[1][0], cm[1][1]\n",
    "    return (tn/(tn+fp))\n",
    "\n",
    "# Positive Predictive Value\n",
    "def custom_ppv_score(y_test, y_pred):\n",
    "    cm = confusion_matrix(y_test, y_pred)\n",
    "    tn, fp, fn, tp = cm[0][0], cm[0][1], cm[1][0], cm[1][1]\n",
    "    return (tp/(tp+fp))\n",
    "\n",
    "# Negative Predictive Value\n",
    "def custom_npv_score(y_test, y_pred):\n",
    "    cm = confusion_matrix(y_test, y_pred)\n",
    "    tn, fp, fn, tp = cm[0][0], cm[0][1], cm[1][0], cm[1][1]\n",
    "    return (tn/(tn+fn))\n",
    "\n",
    "# Accuracy\n",
    "def custom_accuracy_score(y_test, y_pred):\n",
    "    cm = confusion_matrix(y_test, y_pred)\n",
    "    tn, fp, fn, tp = cm[0][0], cm[0][1], cm[1][0], cm[1][1]\n",
    "    return ((tn+tp)/(tn+tp+fn+fp))"
   ]
  },
  {
   "cell_type": "code",
   "execution_count": 27,
   "metadata": {},
   "outputs": [],
   "source": [
    "# F1 Score\n",
    "def F1_score(y_test, y_pred):\n",
    "    cm = confusion_matrix(y_test, y_pred)\n",
    "    tn, fp, fn, tp = cm[0][0], cm[0][1], cm[1][0], cm[1][1]\n",
    "    recall = (tp/(tp+fn))\n",
    "    precision = (tp/(tp+fp))\n",
    "    return (2*recall*precision)/(recall+precision)"
   ]
  },
  {
   "cell_type": "code",
   "execution_count": 28,
   "metadata": {},
   "outputs": [],
   "source": [
    "# Keeping threshold as 0.5 initially. Can change if required to improve F1 score\n",
    "class_threshold = 0.5"
   ]
  },
  {
   "cell_type": "markdown",
   "metadata": {},
   "source": [
    "# Model No 1: Random Forest"
   ]
  },
  {
   "cell_type": "code",
   "execution_count": 29,
   "metadata": {},
   "outputs": [
    {
     "data": {
      "text/plain": [
       "RandomForestClassifier(random_state=42)"
      ]
     },
     "execution_count": 29,
     "metadata": {},
     "output_type": "execute_result"
    }
   ],
   "source": [
    "# Define a random forest model and call it classifier_RF\n",
    "classifier_RF = RandomForestClassifier(random_state=42)\n",
    "\n",
    "# Train the model classifier_RF on the training data after balancing\n",
    "classifier_RF.fit(X_res, y_res)"
   ]
  },
  {
   "cell_type": "code",
   "execution_count": 30,
   "metadata": {},
   "outputs": [
    {
     "name": "stdout",
     "output_type": "stream",
     "text": [
      "Metrics of the Random Forest model: \n",
      "\n",
      "Confusion matrix: \n",
      "[[58  8]\n",
      " [18 32]]\n",
      "                                   Accuracy: 0.7758620689655172\n",
      "                   SENSITIVITY (aka RECALL): 0.8\n",
      "                 SPECIFICITY (aka FALL-OUT): 0.7631578947368421\n",
      " POSITIVE PREDICTIVE VALUE, (aka PRECISION): 0.64\n",
      "                 NEGATIVE PREDICTIVE VALUE): 0.8787878787878788\n",
      "                                  F1 Score): 0.7111111111111111\n"
     ]
    },
    {
     "data": {
      "image/png": "[encoded data removed]",
      "text/plain": [
       "<Figure size 432x288 with 1 Axes>"
      ]
     },
     "metadata": {
      "needs_background": "light"
     },
     "output_type": "display_data"
    },
    {
     "name": "stdout",
     "output_type": "stream",
     "text": [
      " AUC: 0.8643092105263158\n"
     ]
    }
   ],
   "source": [
    "# Use the trained model to predict testing data\n",
    "y_pred_prob = classifier_RF.predict_proba(X_test)[:,1] # probabilities \n",
    "y_pred = np.where(y_pred_prob > class_threshold, 1, 0) # classification\n",
    "\n",
    "# Lets look at the model metrics\n",
    "\n",
    "print('Metrics of the Random Forest model: \\n')\n",
    "\n",
    "cm = np.transpose(confusion_matrix(y_test, y_pred))\n",
    "print(\"Confusion matrix: \\n\" + str(cm))\n",
    "\n",
    "print(\"                                   Accuracy: \" + str(custom_accuracy_score(y_test, y_pred))) \n",
    "print(\"                   SENSITIVITY (aka RECALL): \" + str(custom_sensitivity_score(y_test, y_pred)))\n",
    "print(\"                 SPECIFICITY (aka FALL-OUT): \" + str(custom_specificity_score(y_test, y_pred)))\n",
    "print(\" POSITIVE PREDICTIVE VALUE, (aka PRECISION): \" + str(custom_ppv_score(y_test, y_pred)))\n",
    "print(\"                 NEGATIVE PREDICTIVE VALUE): \" + str(custom_npv_score(y_test, y_pred)))\n",
    "print(\"                                  F1 Score): \" + str(F1_score(y_test, y_pred)))\n",
    "\n",
    "plot_roc(y_test, y_pred_prob)\n",
    "print(\" AUC: \" + str(roc_auc_score(y_test, y_pred_prob)))"
   ]
  },
  {
   "cell_type": "code",
   "execution_count": 31,
   "metadata": {},
   "outputs": [
    {
     "name": "stdout",
     "output_type": "stream",
     "text": [
      "F1 Score = 0.71\n",
      "\n",
      "              precision    recall  f1-score   support\n",
      "\n",
      "           0       0.88      0.76      0.82        76\n",
      "           1       0.64      0.80      0.71        40\n",
      "\n",
      "    accuracy                           0.78       116\n",
      "   macro avg       0.76      0.78      0.76       116\n",
      "weighted avg       0.80      0.78      0.78       116\n",
      "\n"
     ]
    }
   ],
   "source": [
    "# Another way of checking F1 and other metrics\n",
    "from sklearn.metrics import classification_report, f1_score\n",
    "\n",
    "print(\"F1 Score = {:.2f}\".format(f1_score(y_test, y_pred)))\n",
    "print()\n",
    "print(classification_report(y_test, y_pred))"
   ]
  },
  {
   "cell_type": "code",
   "execution_count": 32,
   "metadata": {},
   "outputs": [
    {
     "name": "stdout",
     "output_type": "stream",
     "text": [
      "[0.06115538 0.22549859 0.09145307 0.06894115 0.06067616 0.1631042\n",
      " 0.11501451 0.16627261 0.04725116 0.00063318]\n"
     ]
    },
    {
     "data": {
      "text/plain": [
       "<matplotlib.axes._subplots.AxesSubplot at 0x1ca7b228548>"
      ]
     },
     "execution_count": 32,
     "metadata": {},
     "output_type": "execute_result"
    },
    {
     "data": {
      "image/png": "[encoded data removed]",
      "text/plain": [
       "<Figure size 1080x360 with 1 Axes>"
      ]
     },
     "metadata": {
      "needs_background": "light"
     },
     "output_type": "display_data"
    }
   ],
   "source": [
    "# Tree models do not have coefficients, but have easily-interpretable tree plots\n",
    "# But in tree ensembles (such as random forect) there is no point to look at individual trees\n",
    "\n",
    "# calculate feature importances\n",
    "importance = classifier_RF.feature_importances_ \n",
    "print(importance)\n",
    "\n",
    "feature_imp = pd.Series(classifier_RF.feature_importances_,index=X_res.columns).sort_values(ascending=False)\n",
    "# plot them\n",
    "plt.figure(figsize=(15,5))\n",
    "plt.title('Feature Importance')\n",
    "plt.xlabel('Decrease in Gini (recal, Gini = 2*AUC-1)')\n",
    "feature_importances = pd.Series(classifier_RF.feature_importances_, index=X_res.columns)\n",
    "feature_importances.nlargest(15).sort_values().plot(kind='barh', align='center')"
   ]
  },
  {
   "cell_type": "markdown",
   "metadata": {},
   "source": [
    "# Prediction using RF Model"
   ]
  },
  {
   "cell_type": "code",
   "execution_count": 33,
   "metadata": {},
   "outputs": [
    {
     "name": "stdout",
     "output_type": "stream",
     "text": [
      "[0 0 0 0 1 1 0 1 1 1 0 1 0 0 0 1 0 0 1 1 0 0 0 0 1 1 0 0 0 0 1 1 1 1 1 1 1\n",
      " 1 0 1 0 0 1 0 0 1 1 0 0 1 0 1 1 0 0 0 1 0 0 1 1 1 1 0 0 1 0 0 0 1 1 0 0 0\n",
      " 0 1 0 0 0 0 1 0 0 1 0 1 1 1 0 0 0 0 0 0 0 1 1 0 1 0 1 0 1 1 1 0 0 1 0 1 0\n",
      " 0 0 1 0 0 1 1 0 0 0 0 0 0 0 0 0 1 1 1 1 1 0 0 1 0 0 1 1 0 0 0 0 1 0 0 0 0\n",
      " 0 1 0 1 0 0 0 0 0 0 1 0 0 1 0 0 0 1 0 0 1 1 1 0 1 0 1 0 0 1 1 1 0 1 1 1 1\n",
      " 0 0 0 1 1 0 0]\n"
     ]
    }
   ],
   "source": [
    "# Using the test file to predict final results for submission\n",
    "X_predict = test_df.drop([\"Id\"], axis=1)\n",
    "\n",
    "# Use your model to make predictions\n",
    "pred_test = classifier_RF.predict(X_predict)\n",
    "\n",
    "# We will look at the predicted prices to ensure we have something sensible.\n",
    "print(pred_test)\n",
    "\n",
    "my_submission = pd.DataFrame({'Id': test_df.Id, 'Predicted': pred_test})\n",
    "\n",
    "my_submission.head()\n",
    "\n",
    "# you could use any filename. We choose submission here\n",
    "my_submission.to_csv('Diabetes_Submission_RF', index=False)"
   ]
  },
  {
   "cell_type": "markdown",
   "metadata": {},
   "source": [
    "# Model No 2: XgBoost"
   ]
  },
  {
   "cell_type": "code",
   "execution_count": 41,
   "metadata": {},
   "outputs": [
    {
     "data": {
      "text/plain": [
       "GradientBoostingClassifier(random_state=42)"
      ]
     },
     "execution_count": 41,
     "metadata": {},
     "output_type": "execute_result"
    }
   ],
   "source": [
    "# Define the gradient boosting machine model and call it classifier_GBM\n",
    "classifier_GBM = GradientBoostingClassifier(random_state=42)\n",
    "\n",
    "# Train the model classifier_GBM on the training data\n",
    "classifier_GBM.fit(X_res, y_res)\n",
    "\n",
    "# A gradient boosting model has many hyper-parameters, for example::\n",
    "# -- the number of trees in the forest ensemble, \n",
    "# -- speed of boosting (\"learning rate\", \"decay rate\"), \n",
    "# -- max number of leafs on each tree, \n",
    "# -- min number of datapoints at a leaf\n",
    "# and so on"
   ]
  },
  {
   "cell_type": "code",
   "execution_count": 42,
   "metadata": {
    "scrolled": false
   },
   "outputs": [
    {
     "name": "stdout",
     "output_type": "stream",
     "text": [
      "Metrics of the Gradient Boosting Machine model: \n",
      "\n",
      "Confusion matrix: \n",
      "[[62  8]\n",
      " [14 32]]\n",
      "                                   Accuracy: 0.8103448275862069\n",
      "                   SENSITIVITY (aka RECALL): 0.8\n",
      "                 SPECIFICITY (aka FALL-OUT): 0.8157894736842105\n",
      " POSITIVE PREDICTIVE VALUE, (aka PRECISION): 0.6956521739130435\n",
      "                 NEGATIVE PREDICTIVE VALUE): 0.8857142857142857\n",
      "                                  F1 Score): 0.7441860465116279\n"
     ]
    },
    {
     "data": {
      "image/png": "[encoded data removed]",
      "text/plain": [
       "<Figure size 432x288 with 1 Axes>"
      ]
     },
     "metadata": {
      "needs_background": "light"
     },
     "output_type": "display_data"
    },
    {
     "name": "stdout",
     "output_type": "stream",
     "text": [
      " AUC: 0.8950657894736842\n"
     ]
    }
   ],
   "source": [
    "# Use the trained model to predict testing data\n",
    "y_pred_prob = classifier_GBM.predict_proba(X_test)[:,1] # probabilities \n",
    "y_pred = np.where(y_pred_prob > class_threshold, 1, 0) # classification\n",
    "\n",
    "# Lets look at the model metrics\n",
    "\n",
    "print('Metrics of the Gradient Boosting Machine model: \\n')\n",
    "\n",
    "cm = np.transpose(confusion_matrix(y_test, y_pred))\n",
    "print(\"Confusion matrix: \\n\" + str(cm))\n",
    "\n",
    "print(\"                                   Accuracy: \" + str(custom_accuracy_score(y_test, y_pred))) \n",
    "print(\"                   SENSITIVITY (aka RECALL): \" + str(custom_sensitivity_score(y_test, y_pred)))\n",
    "print(\"                 SPECIFICITY (aka FALL-OUT): \" + str(custom_specificity_score(y_test, y_pred)))\n",
    "print(\" POSITIVE PREDICTIVE VALUE, (aka PRECISION): \" + str(custom_ppv_score(y_test, y_pred)))\n",
    "print(\"                 NEGATIVE PREDICTIVE VALUE): \" + str(custom_npv_score(y_test, y_pred)))\n",
    "print(\"                                  F1 Score): \" + str(F1_score(y_test, y_pred)))\n",
    "\n",
    "plot_roc(y_test, y_pred_prob)\n",
    "print(\" AUC: \" + str(roc_auc_score(y_test, y_pred_prob)))"
   ]
  },
  {
   "cell_type": "code",
   "execution_count": 43,
   "metadata": {
    "scrolled": true
   },
   "outputs": [
    {
     "name": "stdout",
     "output_type": "stream",
     "text": [
      "F1 Score = 0.74\n",
      "\n",
      "              precision    recall  f1-score   support\n",
      "\n",
      "           0       0.89      0.82      0.85        76\n",
      "           1       0.70      0.80      0.74        40\n",
      "\n",
      "    accuracy                           0.81       116\n",
      "   macro avg       0.79      0.81      0.80       116\n",
      "weighted avg       0.82      0.81      0.81       116\n",
      "\n"
     ]
    }
   ],
   "source": [
    "# Another way of checking F1 and other metrics\n",
    "from sklearn.metrics import classification_report, f1_score\n",
    "\n",
    "print(\"F1 Score = {:.2f}\".format(f1_score(y_test, y_pred)))\n",
    "print()\n",
    "print(classification_report(y_test, y_pred))"
   ]
  },
  {
   "cell_type": "code",
   "execution_count": 44,
   "metadata": {},
   "outputs": [
    {
     "name": "stdout",
     "output_type": "stream",
     "text": [
      "[0.02874915 0.365043   0.0370915  0.04061269 0.04074091 0.18171132\n",
      " 0.11679085 0.187833   0.00090625 0.00052134]\n"
     ]
    },
    {
     "data": {
      "text/plain": [
       "<matplotlib.axes._subplots.AxesSubplot at 0x1ca7b302648>"
      ]
     },
     "execution_count": 44,
     "metadata": {},
     "output_type": "execute_result"
    },
    {
     "data": {
      "image/png": "[encoded data removed]",
      "text/plain": [
       "<Figure size 1080x360 with 1 Axes>"
      ]
     },
     "metadata": {
      "needs_background": "light"
     },
     "output_type": "display_data"
    }
   ],
   "source": [
    "# Tree models do not have coefficients, but have easily-interpretable tree plots\n",
    "# But in tree ensembles (such as random forect) there is no point to look at individual trees\n",
    "\n",
    "# calculate feature importances\n",
    "importance = classifier_GBM.feature_importances_ \n",
    "print(importance)\n",
    "\n",
    "feature_imp = pd.Series(classifier_RF.feature_importances_,index=X_res.columns).sort_values(ascending=False)\n",
    "# plot them\n",
    "plt.figure(figsize=(15,5))\n",
    "plt.title('Feature Importance')\n",
    "plt.xlabel('Decrease in Gini (recal, Gini = 2*AUC-1)')\n",
    "feature_importances = pd.Series(classifier_RF.feature_importances_, index=X_res.columns)\n",
    "feature_importances.nlargest(15).sort_values().plot(kind='barh', align='center')"
   ]
  },
  {
   "cell_type": "code",
   "execution_count": 45,
   "metadata": {},
   "outputs": [
    {
     "name": "stdout",
     "output_type": "stream",
     "text": [
      "Optimized hyper-parameters:{'learning_rate': 0.1, 'max_depth': 6, 'max_leaf_nodes': 50, 'n_estimators': 100}\n",
      "Metrics of the Gradient Boosting Machine model with the optimized hyper-parameters\": \n",
      "\n",
      "Confusion matrix: \n",
      "[[60  9]\n",
      " [16 31]]\n",
      "                                   Accuracy: 0.7844827586206896\n",
      "                   SENSITIVITY (aka RECALL): 0.775\n",
      "                 SPECIFICITY (aka FALL-OUT): 0.7894736842105263\n",
      " POSITIVE PREDICTIVE VALUE, (aka PRECISION): 0.6595744680851063\n",
      "                 NEGATIVE PREDICTIVE VALUE): 0.8695652173913043\n",
      "                                  F1 Score): 0.7126436781609196\n"
     ]
    },
    {
     "data": {
      "image/png": "[encoded data removed]",
      "text/plain": [
       "<Figure size 432x288 with 1 Axes>"
      ]
     },
     "metadata": {
      "needs_background": "light"
     },
     "output_type": "display_data"
    },
    {
     "name": "stdout",
     "output_type": "stream",
     "text": [
      " AUC: 0.8904605263157894\n"
     ]
    }
   ],
   "source": [
    "# Hyperparameter tuning\n",
    "# Hyper-parameter tuning (\"optimization\") using the function GridSearchCV for maximizing AUC\n",
    "score_func = make_scorer(f1_score, greater_is_better=True)\n",
    "\n",
    "# as an example, we will tune two parameters\n",
    "n_trees = [100, 200, 300, 400, 500, 600] # first, the \"numeber of trees\" hyper-parameter (n_trees) and we will consider values of 100, 200, ... 600 trees in the forest\n",
    "learning_rates = [0.01, 0.1] # second, speed of boosting (\"learning rate\") and we will use two values 0.01 и 0.1\n",
    "depth = [2, 3, 4, 5, 6]\n",
    "leaf_nodes = [None,5, 10, 50, 100]\n",
    "\n",
    "Grid_srch_parameters_list = [ [{'n_estimators':n_trees, 'learning_rate': learning_rates,\n",
    "                                'max_depth':depth,'max_leaf_nodes':leaf_nodes}] ] \n",
    "\n",
    "# we will apply a 5-fold cross-validation and call the resultant function \"grid_search\"\n",
    "grid_search = GridSearchCV(estimator = classifier_GBM, cv = 5, param_grid = Grid_srch_parameters_list[0], scoring = score_func,\n",
    "                              return_train_score = True) \n",
    "\n",
    "# # apply function grid_search to the training data, call the resultant best model grid_search_GBM\n",
    "grid_search_GBM = grid_search.fit(X_res, y_res)\n",
    "\n",
    "# use the best model to predict the testing data \n",
    "y_pred_prob = grid_search_GBM.predict_proba(X_test)[:,1] # probabilities\n",
    "y_pred = np.where(y_pred_prob > class_threshold, 1, 0) # classification\n",
    "\n",
    "print('Optimized hyper-parameters:' + str(grid_search.best_params_))\n",
    "\n",
    "# Lets look at the model metrics\n",
    "\n",
    "print('Metrics of the Gradient Boosting Machine model with the optimized hyper-parameters\": \\n')\n",
    "\n",
    "cm = np.transpose(confusion_matrix(y_test, y_pred))\n",
    "print(\"Confusion matrix: \\n\" + str(cm))\n",
    "\n",
    "print(\"                                   Accuracy: \" + str(custom_accuracy_score(y_test, y_pred))) \n",
    "print(\"                   SENSITIVITY (aka RECALL): \" + str(custom_sensitivity_score(y_test, y_pred)))\n",
    "print(\"                 SPECIFICITY (aka FALL-OUT): \" + str(custom_specificity_score(y_test, y_pred)))\n",
    "print(\" POSITIVE PREDICTIVE VALUE, (aka PRECISION): \" + str(custom_ppv_score(y_test, y_pred)))\n",
    "print(\"                 NEGATIVE PREDICTIVE VALUE): \" + str(custom_npv_score(y_test, y_pred)))\n",
    "print(\"                                  F1 Score): \" + str(F1_score(y_test, y_pred)))\n",
    "\n",
    "plot_roc(y_test, y_pred_prob)\n",
    "print(\" AUC: \" + str(roc_auc_score(y_test, y_pred_prob)))"
   ]
  },
  {
   "cell_type": "markdown",
   "metadata": {},
   "source": [
    "The model without tuning has a better F1 than the tuned model. So the untuned model will be used to predict results."
   ]
  },
  {
   "cell_type": "markdown",
   "metadata": {},
   "source": [
    "# Prediction using XgBoost"
   ]
  },
  {
   "cell_type": "code",
   "execution_count": 47,
   "metadata": {},
   "outputs": [
    {
     "name": "stdout",
     "output_type": "stream",
     "text": [
      "[0 0 0 0 1 1 0 1 1 1 0 1 0 1 0 1 0 0 1 1 1 0 0 0 1 1 0 0 0 0 1 1 1 1 1 1 1\n",
      " 1 0 1 0 0 1 0 0 1 1 0 0 1 0 1 1 0 0 0 1 0 0 1 1 1 0 0 0 1 0 1 0 1 1 0 0 0\n",
      " 0 0 0 0 0 0 1 0 0 0 0 1 1 1 0 0 0 0 0 0 1 1 1 0 1 0 1 0 1 1 1 0 0 1 0 1 0\n",
      " 1 0 1 1 1 1 1 0 1 0 0 0 0 0 0 0 1 1 1 1 1 0 0 1 0 0 1 1 0 0 0 0 0 0 0 0 0\n",
      " 1 1 0 0 0 0 0 1 0 0 1 0 1 1 0 0 0 1 0 0 1 1 1 0 1 1 1 0 0 1 1 1 0 0 0 1 1\n",
      " 0 0 0 1 1 0 0]\n"
     ]
    }
   ],
   "source": [
    "# Using the test file to predict final results for submission\n",
    "X_predict = test_df.drop([\"Id\"], axis=1)\n",
    "\n",
    "# Use your model to make predictions\n",
    "pred_test = classifier_GBM.predict(X_predict)\n",
    "\n",
    "# We will look at the predicted prices to ensure we have something sensible.\n",
    "print(pred_test)\n",
    "\n",
    "my_submission = pd.DataFrame({'Id': test_df.Id, 'Predicted': pred_test})\n",
    "\n",
    "my_submission.head()\n",
    "\n",
    "# you could use any filename. We choose submission here\n",
    "my_submission.to_csv('Diabetes_Submission_xgboost', index=False)"
   ]
  },
  {
   "cell_type": "markdown",
   "metadata": {},
   "source": [
    "# Model No 3: Step wise Logistic Regression"
   ]
  },
  {
   "cell_type": "code",
   "execution_count": 38,
   "metadata": {},
   "outputs": [
    {
     "name": "stderr",
     "output_type": "stream",
     "text": [
      "C:\\Users\\ari62\\anaconda3\\lib\\site-packages\\sklearn\\linear_model\\_logistic.py:764: ConvergenceWarning: lbfgs failed to converge (status=1):\n",
      "STOP: TOTAL NO. of ITERATIONS REACHED LIMIT.\n",
      "\n",
      "Increase the number of iterations (max_iter) or scale the data as shown in:\n",
      "    https://scikit-learn.org/stable/modules/preprocessing.html\n",
      "Please also refer to the documentation for alternative solver options:\n",
      "    https://scikit-learn.org/stable/modules/linear_model.html#logistic-regression\n",
      "  extra_warning_msg=_LOGISTIC_SOLVER_CONVERGENCE_MSG)\n"
     ]
    },
    {
     "data": {
      "text/html": [
       "<div>\n",
       "<style scoped>\n",
       "    .dataframe tbody tr th:only-of-type {\n",
       "        vertical-align: middle;\n",
       "    }\n",
       "\n",
       "    .dataframe tbody tr th {\n",
       "        vertical-align: top;\n",
       "    }\n",
       "\n",
       "    .dataframe thead th {\n",
       "        text-align: right;\n",
       "    }\n",
       "</style>\n",
       "<table border=\"1\" class=\"dataframe\">\n",
       "  <thead>\n",
       "    <tr style=\"text-align: right;\">\n",
       "      <th></th>\n",
       "      <th>0</th>\n",
       "      <th>1</th>\n",
       "    </tr>\n",
       "  </thead>\n",
       "  <tbody>\n",
       "    <tr>\n",
       "      <th>0</th>\n",
       "      <td>num_times_pregnant</td>\n",
       "      <td>1</td>\n",
       "    </tr>\n",
       "    <tr>\n",
       "      <th>1</th>\n",
       "      <td>plasma_glucose</td>\n",
       "      <td>1</td>\n",
       "    </tr>\n",
       "    <tr>\n",
       "      <th>2</th>\n",
       "      <td>DBP</td>\n",
       "      <td>1</td>\n",
       "    </tr>\n",
       "    <tr>\n",
       "      <th>3</th>\n",
       "      <td>triceps_skin</td>\n",
       "      <td>1</td>\n",
       "    </tr>\n",
       "    <tr>\n",
       "      <th>4</th>\n",
       "      <td>serum_insulin</td>\n",
       "      <td>1</td>\n",
       "    </tr>\n",
       "  </tbody>\n",
       "</table>\n",
       "</div>"
      ],
      "text/plain": [
       "                    0  1\n",
       "0  num_times_pregnant  1\n",
       "1      plasma_glucose  1\n",
       "2                 DBP  1\n",
       "3        triceps_skin  1\n",
       "4       serum_insulin  1"
      ]
     },
     "execution_count": 38,
     "metadata": {},
     "output_type": "execute_result"
    }
   ],
   "source": [
    "# Apply variable selection with Stepwise Recursive Feature Selection \n",
    "\n",
    "from sklearn.feature_selection import RFE\n",
    "\n",
    "rfe = RFE(estimator=classifier_LR, n_features_to_select=20, step=1) # in this example we will select 20 variables; this number \"20\" is a hyperparameter to tune\n",
    "rfe.fit(X_train, y_train)\n",
    "ranking = rfe.ranking_.reshape(len(X_train.columns))\n",
    "\n",
    "# which 5 variables are in the model?\n",
    "pd.DataFrame([X_test.columns,ranking]).transpose().sort_values(1).head()"
   ]
  },
  {
   "cell_type": "code",
   "execution_count": 39,
   "metadata": {
    "scrolled": false
   },
   "outputs": [
    {
     "name": "stdout",
     "output_type": "stream",
     "text": [
      "Metrics of the logistic regression model after variable selection: \n",
      "\n",
      "Confusion matrix: \n",
      "[[68 17]\n",
      " [ 8 23]]\n",
      "                                   Accuracy: 0.7844827586206896\n",
      "                   SENSITIVITY (aka RECALL): 0.575\n",
      "                 SPECIFICITY (aka FALL-OUT): 0.8947368421052632\n",
      " POSITIVE PREDICTIVE VALUE, (aka PRECISION): 0.7419354838709677\n",
      "                 NEGATIVE PREDICTIVE VALUE): 0.8\n",
      "                                  F1 Score): 0.6478873239436619\n"
     ]
    },
    {
     "name": "stderr",
     "output_type": "stream",
     "text": [
      "C:\\Users\\ari62\\anaconda3\\lib\\site-packages\\sklearn\\linear_model\\_logistic.py:764: ConvergenceWarning: lbfgs failed to converge (status=1):\n",
      "STOP: TOTAL NO. of ITERATIONS REACHED LIMIT.\n",
      "\n",
      "Increase the number of iterations (max_iter) or scale the data as shown in:\n",
      "    https://scikit-learn.org/stable/modules/preprocessing.html\n",
      "Please also refer to the documentation for alternative solver options:\n",
      "    https://scikit-learn.org/stable/modules/linear_model.html#logistic-regression\n",
      "  extra_warning_msg=_LOGISTIC_SOLVER_CONVERGENCE_MSG)\n"
     ]
    },
    {
     "data": {
      "image/png": "[encoded data removed]",
      "text/plain": [
       "<Figure size 432x288 with 1 Axes>"
      ]
     },
     "metadata": {
      "needs_background": "light"
     },
     "output_type": "display_data"
    },
    {
     "name": "stdout",
     "output_type": "stream",
     "text": [
      " AUC: 0.8190789473684209\n"
     ]
    }
   ],
   "source": [
    "# Train the model and call it classifier_LR_RFE \n",
    "classifier_LR_RFE = rfe.fit(X_train, y_train)\n",
    "\n",
    "# Use the trained model to predict testing data\n",
    "y_pred_prob = classifier_LR_RFE.predict_proba(X_test)[:,1] # probabilities\n",
    "y_pred = np.where(y_pred_prob > class_threshold, 1, 0) # classification\n",
    "\n",
    "\n",
    "# Lets look at the model metrics after variable selection \n",
    "print('Metrics of the logistic regression model after variable selection: \\n')\n",
    "\n",
    "cm = np.transpose(confusion_matrix(y_test, y_pred))\n",
    "print(\"Confusion matrix: \\n\" + str(cm))\n",
    "\n",
    "\n",
    "print(\"                                   Accuracy: \" + str(custom_accuracy_score(y_test, y_pred))) \n",
    "print(\"                   SENSITIVITY (aka RECALL): \" + str(custom_sensitivity_score(y_test, y_pred)))\n",
    "print(\"                 SPECIFICITY (aka FALL-OUT): \" + str(custom_specificity_score(y_test, y_pred)))\n",
    "print(\" POSITIVE PREDICTIVE VALUE, (aka PRECISION): \" + str(custom_ppv_score(y_test, y_pred)))\n",
    "print(\"                 NEGATIVE PREDICTIVE VALUE): \" + str(custom_npv_score(y_test, y_pred)))\n",
    "print(\"                                  F1 Score): \" + str(F1_score(y_test, y_pred)))\n",
    "\n",
    "plot_roc(y_test, y_pred_prob)\n",
    "print(\" AUC: \" + str(roc_auc_score(y_test, y_pred_prob)))"
   ]
  },
  {
   "cell_type": "markdown",
   "metadata": {},
   "source": [
    "# Prediction using Logistic model"
   ]
  },
  {
   "cell_type": "code",
   "execution_count": 40,
   "metadata": {},
   "outputs": [
    {
     "name": "stdout",
     "output_type": "stream",
     "text": [
      "[0 0 0 0 0 0 0 0 1 1 0 1 1 0 0 0 0 0 1 1 0 0 0 0 1 1 0 0 0 0 1 1 1 1 0 1 1\n",
      " 0 0 1 0 0 0 0 0 1 0 0 0 1 0 1 1 0 0 0 0 0 0 1 1 0 0 0 0 1 0 1 0 1 1 0 0 0\n",
      " 0 0 0 0 0 0 1 0 0 1 0 1 1 0 0 0 0 0 0 0 0 1 0 0 1 0 1 0 0 1 1 0 0 1 0 0 0\n",
      " 0 0 1 0 0 1 0 0 0 0 0 0 0 0 0 0 1 1 1 0 1 0 0 1 0 0 1 1 0 0 0 0 0 0 0 0 0\n",
      " 0 1 0 0 0 0 0 0 0 1 1 0 1 0 0 0 0 1 0 0 1 0 0 0 0 0 1 0 0 0 0 1 0 1 0 1 1\n",
      " 0 0 0 1 0 0 0]\n"
     ]
    }
   ],
   "source": [
    "# Using the test file to predict final results for submission\n",
    "X_predict = test_df.drop([\"Id\"], axis=1)\n",
    "\n",
    "# Use your model to make predictions\n",
    "pred_test = classifier_LR_RFE.predict(X_predict)\n",
    "\n",
    "# We will look at the predicted prices to ensure we have something sensible.\n",
    "print(pred_test)\n",
    "\n",
    "my_submission = pd.DataFrame({'Id': test_df.Id, 'Predicted': pred_test})\n",
    "\n",
    "my_submission.head()\n",
    "\n",
    "# you could use any filename. We choose submission here\n",
    "my_submission.to_csv('Diabetes_Submission_Logit', index=False)"
   ]
  }
 ],
 "metadata": {
  "kernelspec": {
   "display_name": "Python 3",
   "language": "python",
   "name": "python3"
  },
  "language_info": {
   "codemirror_mode": {
    "name": "ipython",
    "version": 3
   },
   "file_extension": ".py",
   "mimetype": "text/x-python",
   "name": "python",
   "nbconvert_exporter": "python",
   "pygments_lexer": "ipython3",
   "version": "3.7.6"
  }
 },
 "nbformat": 4,
 "nbformat_minor": 4
}
